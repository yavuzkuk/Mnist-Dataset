{
  "nbformat": 4,
  "nbformat_minor": 0,
  "metadata": {
    "colab": {
      "provenance": [],
      "authorship_tag": "ABX9TyNP3zEZ36b49sA+5oXh07dS",
      "include_colab_link": true
    },
    "kernelspec": {
      "name": "python3",
      "display_name": "Python 3"
    },
    "language_info": {
      "name": "python"
    }
  },
  "cells": [
    {
      "cell_type": "markdown",
      "metadata": {
        "id": "view-in-github",
        "colab_type": "text"
      },
      "source": [
        "<a href=\"https://colab.research.google.com/github/yavuzkuk/Mnist-Dataset/blob/main/Mnist_DenseNet.ipynb\" target=\"_parent\"><img src=\"https://colab.research.google.com/assets/colab-badge.svg\" alt=\"Open In Colab\"/></a>"
      ]
    },
    {
      "cell_type": "code",
      "execution_count": 1,
      "metadata": {
        "id": "gX1egN7kIHtt"
      },
      "outputs": [],
      "source": [
        "from keras.layers import Conv2D,Dense,MaxPooling2D,Flatten\n",
        "from keras.models import Sequential\n",
        "from keras.datasets import mnist\n",
        "from keras.layers.normalization.batch_normalization_v1 import BatchNormalization\n",
        "from keras.layers.regularization.spatial_dropout3d import Dropout\n",
        "from keras.layers.rnn.base_rnn import DropoutRNNCellMixin"
      ]
    },
    {
      "cell_type": "code",
      "source": [
        "(train_img,train_label),(test_img,test_label) = mnist.load_data()"
      ],
      "metadata": {
        "colab": {
          "base_uri": "https://localhost:8080/"
        },
        "id": "7wldFGvdIMH3",
        "outputId": "f6a6ea81-26ea-4962-9dee-0d6d5c9f0dd5"
      },
      "execution_count": 2,
      "outputs": [
        {
          "output_type": "stream",
          "name": "stdout",
          "text": [
            "Downloading data from https://storage.googleapis.com/tensorflow/tf-keras-datasets/mnist.npz\n",
            "11490434/11490434 [==============================] - 0s 0us/step\n"
          ]
        }
      ]
    },
    {
      "cell_type": "code",
      "source": [
        "from keras.utils import to_categorical\n",
        "from numpy import expand_dims\n",
        "train_img = train_img/255.\n",
        "test_img = test_img/255.\n",
        "\n",
        "train_img = train_img.astype(\"float\")\n",
        "test_img = test_img.astype(\"float\")\n",
        "\n",
        "train_img = expand_dims(train_img,axis=-1)\n",
        "test_img = expand_dims(test_img,axis=-1)\n",
        "\n",
        "train_label = to_categorical(train_label)\n",
        "test_label = to_categorical(test_label)"
      ],
      "metadata": {
        "id": "FVyaE-8YR18I"
      },
      "execution_count": 3,
      "outputs": []
    },
    {
      "cell_type": "code",
      "source": [
        "from keras.layers.pooling.global_average_pooling2d import GlobalAveragePooling2D\n",
        "model = Sequential()\n",
        "\n",
        "model.add(Conv2D(64,kernel_size=(3,3),activation=\"relu\",input_shape=(28,28,1)))\n",
        "model.add(BatchNormalization())\n",
        "model.add(MaxPooling2D((2,2)))\n",
        "model.add(Conv2D(128,kernel_size=(3,3),activation=\"relu\"))\n",
        "model.add(BatchNormalization())\n",
        "model.add(MaxPooling2D(2,2))\n",
        "model.add(Conv2D(256,kernel_size=(3,3),activation=\"relu\"))\n",
        "model.add(BatchNormalization())\n",
        "model.add(GlobalAveragePooling2D())\n",
        "\n",
        "model.add(Flatten())\n",
        "\n",
        "model.add(Dense(256,activation=\"relu\"))\n",
        "model.add(Dropout(0.5))\n",
        "model.add(Dense(10,activation=\"softmax\"))\n"
      ],
      "metadata": {
        "id": "eNQiEAkRSER3"
      },
      "execution_count": 4,
      "outputs": []
    },
    {
      "cell_type": "code",
      "source": [
        "model.compile(loss=\"categorical_crossentropy\",metrics=[\"accuracy\"],optimizer=\"adam\")"
      ],
      "metadata": {
        "id": "7DXT4cEdSt9J"
      },
      "execution_count": 5,
      "outputs": []
    },
    {
      "cell_type": "code",
      "source": [
        "history = model.fit(train_img,train_label,epochs=10,batch_size=128)"
      ],
      "metadata": {
        "colab": {
          "base_uri": "https://localhost:8080/"
        },
        "id": "nJ5uzDd-UIW0",
        "outputId": "2bf86483-1075-4aeb-e59b-0b3e15c2c865"
      },
      "execution_count": 6,
      "outputs": [
        {
          "output_type": "stream",
          "name": "stdout",
          "text": [
            "Epoch 1/10\n",
            "469/469 [==============================] - 220s 454ms/step - loss: 0.1236 - accuracy: 0.9639\n",
            "Epoch 2/10\n",
            "469/469 [==============================] - 210s 448ms/step - loss: 0.0427 - accuracy: 0.9869\n",
            "Epoch 3/10\n",
            "469/469 [==============================] - 208s 443ms/step - loss: 0.0288 - accuracy: 0.9911\n",
            "Epoch 4/10\n",
            "469/469 [==============================] - 207s 442ms/step - loss: 0.0234 - accuracy: 0.9924\n",
            "Epoch 5/10\n",
            "469/469 [==============================] - 211s 450ms/step - loss: 0.0193 - accuracy: 0.9938\n",
            "Epoch 6/10\n",
            "469/469 [==============================] - 211s 449ms/step - loss: 0.0155 - accuracy: 0.9951\n",
            "Epoch 7/10\n",
            "469/469 [==============================] - 210s 449ms/step - loss: 0.0151 - accuracy: 0.9949\n",
            "Epoch 8/10\n",
            "469/469 [==============================] - 220s 469ms/step - loss: 0.0131 - accuracy: 0.9957\n",
            "Epoch 9/10\n",
            "469/469 [==============================] - 221s 472ms/step - loss: 0.0102 - accuracy: 0.9966\n",
            "Epoch 10/10\n",
            "469/469 [==============================] - 219s 466ms/step - loss: 0.0086 - accuracy: 0.9971\n"
          ]
        }
      ]
    },
    {
      "cell_type": "code",
      "source": [
        "loss , accuracy = model.evaluate(test_img,test_label)"
      ],
      "metadata": {
        "colab": {
          "base_uri": "https://localhost:8080/"
        },
        "id": "IulLYa-3UQQr",
        "outputId": "1822690b-6515-434c-8483-291b69dfc385"
      },
      "execution_count": 7,
      "outputs": [
        {
          "output_type": "stream",
          "name": "stdout",
          "text": [
            "313/313 [==============================] - 9s 29ms/step - loss: 0.0296 - accuracy: 0.9926\n"
          ]
        }
      ]
    },
    {
      "cell_type": "code",
      "source": [
        "lossTable = history.history[\"loss\"]\n",
        "accuracyTable = history.history[\"accuracy\"]"
      ],
      "metadata": {
        "id": "r8tNUIdQ9Wvt"
      },
      "execution_count": 10,
      "outputs": []
    },
    {
      "cell_type": "code",
      "source": [
        "import matplotlib.pyplot as plt\n",
        "\n",
        "\n",
        "plt.plot(range(len(lossTable)),lossTable)\n",
        "plt.show()\n",
        "\n",
        "plt.plot(range(len(accuracyTable)),accuracyTable)\n",
        "plt.show()"
      ],
      "metadata": {
        "colab": {
          "base_uri": "https://localhost:8080/",
          "height": 513
        },
        "id": "GPI4ez1l86Ov",
        "outputId": "9623f7ea-8d73-4b92-a8c7-7882dfd54eb6"
      },
      "execution_count": 11,
      "outputs": [
        {
          "output_type": "display_data",
          "data": {
            "text/plain": [
              "<Figure size 432x288 with 1 Axes>"
            ],
            "image/png": "[encoded data removed]"
          },
          "metadata": {
            "needs_background": "light"
          }
        },
        {
          "output_type": "display_data",
          "data": {
            "text/plain": [
              "<Figure size 432x288 with 1 Axes>"
            ],
            "image/png": "[encoded data removed]"
          },
          "metadata": {
            "needs_background": "light"
          }
        }
      ]
    },
    {
      "cell_type": "code",
      "source": [],
      "metadata": {
        "id": "yCcOfHZr9Smc"
      },
      "execution_count": null,
      "outputs": []
    }
  ]
}