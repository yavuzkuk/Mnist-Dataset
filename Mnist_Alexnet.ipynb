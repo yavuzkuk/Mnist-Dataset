{
  "nbformat": 4,
  "nbformat_minor": 0,
  "metadata": {
    "colab": {
      "provenance": [],
      "authorship_tag": "ABX9TyOq0OlUQuPe7Frs4yprx6tr",
      "include_colab_link": true
    },
    "kernelspec": {
      "name": "python3",
      "display_name": "Python 3"
    },
    "language_info": {
      "name": "python"
    }
  },
  "cells": [
    {
      "cell_type": "markdown",
      "metadata": {
        "id": "view-in-github",
        "colab_type": "text"
      },
      "source": [
        "<a href=\"https://colab.research.google.com/github/yavuzkuk/Mnist-Dataset/blob/main/Mnist_Alexnet.ipynb\" target=\"_parent\"><img src=\"https://colab.research.google.com/assets/colab-badge.svg\" alt=\"Open In Colab\"/></a>"
      ]
    },
    {
      "cell_type": "code",
      "execution_count": 63,
      "metadata": {
        "id": "Y-FxdiAy0CFX"
      },
      "outputs": [],
      "source": [
        "from keras.datasets import mnist\n",
        "from keras.layers import Dense,MaxPooling2D,Conv2D,Dropout,BatchNormalization,Rescaling\n",
        "from keras.utils.np_utils import to_categorical\n",
        "from keras.models import Sequential\n",
        "from keras.layers.reshaping.flatten import Flatten"
      ]
    },
    {
      "cell_type": "code",
      "source": [
        "(train_img,train_label),(test_img,test_label) = mnist.load_data()"
      ],
      "metadata": {
        "id": "TwQT6Nmy0dZJ"
      },
      "execution_count": 64,
      "outputs": []
    },
    {
      "cell_type": "code",
      "source": [
        "train_img = train_img/255.0\n",
        "test_img = test_img/255.0"
      ],
      "metadata": {
        "id": "Cg_M2yhv06vJ"
      },
      "execution_count": 65,
      "outputs": []
    },
    {
      "cell_type": "code",
      "source": [
        "test_label = to_categorical(test_label)\n",
        "train_label = to_categorical(train_label)\n",
        "\n",
        "train_img = train_img.reshape(train_img.shape[0],28,28,1)\n",
        "test_img = test_img.reshape(test_img.shape[0],28,28,1)"
      ],
      "metadata": {
        "id": "A3uRnReP1BKl"
      },
      "execution_count": 66,
      "outputs": []
    },
    {
      "cell_type": "code",
      "source": [
        "model = Sequential()\n",
        "\n",
        "\n",
        "model.add(Conv2D(96,kernel_size=(11,11),strides=(4,4),activation=\"relu\",input_shape=(28,28,1)))\n",
        "\n",
        "model.add(MaxPooling2D(pool_size=(3, 3), strides= (2, 2)))\n",
        "model.add(Conv2D(256,kernel_size=(5,5),strides=(1,1),activation=\"relu\",padding=\"same\"))\n",
        "\n",
        "model.add(MaxPooling2D(pool_size=(2, 2), strides=(2, 2)))\n",
        "model.add(Conv2D(384,kernel_size=(3,3),strides=(1,1),activation=\"relu\",padding=\"same\"))\n",
        "\n",
        "model.add(Conv2D(384,kernel_size=(3,3),strides=(1,1),activation=\"relu\",padding=\"same\"))\n",
        "\n",
        "model.add(Conv2D(256,kernel_size=(3,3),strides=(1,1),activation=\"relu\",padding=\"same\"))\n",
        "\n",
        "model.add(MaxPooling2D(pool_size=(1, 1), strides=(2, 2)))\n",
        "\n",
        "model.add(Flatten())\n",
        "\n",
        "model.add(Dense(4096,activation=\"relu\"))\n",
        "model.add(Dropout(0.5))\n",
        "model.add(Dense(10,activation=\"softmax\"))"
      ],
      "metadata": {
        "id": "kCumkRRS1JT2"
      },
      "execution_count": 67,
      "outputs": []
    },
    {
      "cell_type": "code",
      "source": [
        "model.compile(metrics=[\"accuracy\"],loss=\"categorical_crossentropy\",optimizer=\"adam\")"
      ],
      "metadata": {
        "id": "q0lAX_KdGiAT"
      },
      "execution_count": 70,
      "outputs": []
    },
    {
      "cell_type": "code",
      "source": [
        "history = model.fit(train_img,train_label,epochs=10,batch_size=128,validation_data=(test_img,test_label))"
      ],
      "metadata": {
        "colab": {
          "base_uri": "https://localhost:8080/"
        },
        "id": "ACxjwk-WHhER",
        "outputId": "bac7c1df-1f70-44fb-a941-31bd3344e874"
      },
      "execution_count": 71,
      "outputs": [
        {
          "output_type": "stream",
          "name": "stdout",
          "text": [
            "Epoch 1/10\n",
            "469/469 [==============================] - 563s 1s/step - loss: 0.7394 - accuracy: 0.7206 - val_loss: 0.1494 - val_accuracy: 0.9598\n",
            "Epoch 2/10\n",
            "469/469 [==============================] - 566s 1s/step - loss: 0.1363 - accuracy: 0.9615 - val_loss: 0.1004 - val_accuracy: 0.9717\n",
            "Epoch 3/10\n",
            "469/469 [==============================] - 572s 1s/step - loss: 0.0908 - accuracy: 0.9738 - val_loss: 0.0908 - val_accuracy: 0.9742\n",
            "Epoch 4/10\n",
            "469/469 [==============================] - 585s 1s/step - loss: 0.0726 - accuracy: 0.9791 - val_loss: 0.0720 - val_accuracy: 0.9798\n",
            "Epoch 5/10\n",
            "469/469 [==============================] - 567s 1s/step - loss: 0.0577 - accuracy: 0.9835 - val_loss: 0.0739 - val_accuracy: 0.9793\n",
            "Epoch 6/10\n",
            "469/469 [==============================] - 556s 1s/step - loss: 0.0496 - accuracy: 0.9855 - val_loss: 0.0983 - val_accuracy: 0.9736\n",
            "Epoch 7/10\n",
            "469/469 [==============================] - 556s 1s/step - loss: 0.0437 - accuracy: 0.9874 - val_loss: 0.0888 - val_accuracy: 0.9767\n",
            "Epoch 8/10\n",
            "469/469 [==============================] - 557s 1s/step - loss: 0.0414 - accuracy: 0.9881 - val_loss: 0.0653 - val_accuracy: 0.9836\n",
            "Epoch 9/10\n",
            "469/469 [==============================] - 552s 1s/step - loss: 0.0371 - accuracy: 0.9892 - val_loss: 0.0616 - val_accuracy: 0.9840\n",
            "Epoch 10/10\n",
            "469/469 [==============================] - 552s 1s/step - loss: 0.0341 - accuracy: 0.9898 - val_loss: 0.0657 - val_accuracy: 0.9836\n"
          ]
        }
      ]
    },
    {
      "cell_type": "code",
      "source": [
        "loss,accuracy = model.evaluate(test_img,test_label)"
      ],
      "metadata": {
        "colab": {
          "base_uri": "https://localhost:8080/"
        },
        "id": "dyQJfiugHs7d",
        "outputId": "c9e39b94-7e1f-43a2-d20f-3eef0a235073"
      },
      "execution_count": 73,
      "outputs": [
        {
          "output_type": "stream",
          "name": "stdout",
          "text": [
            "313/313 [==============================] - 8s 24ms/step - loss: 0.0657 - accuracy: 0.9836\n"
          ]
        }
      ]
    },
    {
      "cell_type": "code",
      "source": [
        "loss = history.history[\"loss\"]\n",
        "accuracy = history.history[\"accuracy\"]"
      ],
      "metadata": {
        "id": "CzRTHCHDe0LU"
      },
      "execution_count": 82,
      "outputs": []
    },
    {
      "cell_type": "code",
      "source": [
        "len(loss)"
      ],
      "metadata": {
        "colab": {
          "base_uri": "https://localhost:8080/"
        },
        "id": "nAdZSJYLfDju",
        "outputId": "6ba461ec-03ae-437b-fb33-08b2f1091c16"
      },
      "execution_count": 85,
      "outputs": [
        {
          "output_type": "execute_result",
          "data": {
            "text/plain": [
              "10"
            ]
          },
          "metadata": {},
          "execution_count": 85
        }
      ]
    },
    {
      "cell_type": "code",
      "source": [
        "import matplotlib.pyplot as plt\n",
        "epoch = range(11)\n",
        "\n",
        "plt.plot(loss,range(len(loss)))\n",
        "plt.show()\n",
        "\n",
        "plt.plot(accuracy,range(len(accuracy)))\n",
        "plt.show()"
      ],
      "metadata": {
        "colab": {
          "base_uri": "https://localhost:8080/",
          "height": 513
        },
        "id": "YYCoDtEgd-wi",
        "outputId": "622f87bc-9ade-4789-b6b8-ebea99589c40"
      },
      "execution_count": 89,
      "outputs": [
        {
          "output_type": "display_data",
          "data": {
            "text/plain": [
              "<Figure size 432x288 with 1 Axes>"
            ],
            "image/png": "[encoded data removed]"
          },
          "metadata": {
            "needs_background": "light"
          }
        },
        {
          "output_type": "display_data",
          "data": {
            "text/plain": [
              "<Figure size 432x288 with 1 Axes>"
            ],
            "image/png": "[encoded data removed]"
          },
          "metadata": {
            "needs_background": "light"
          }
        }
      ]
    },
    {
      "cell_type": "code",
      "source": [],
      "metadata": {
        "id": "lvXgk6oYeUNJ"
      },
      "execution_count": null,
      "outputs": []
    }
  ]
}