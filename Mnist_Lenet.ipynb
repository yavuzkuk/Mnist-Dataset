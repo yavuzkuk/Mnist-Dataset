{
  "nbformat": 4,
  "nbformat_minor": 0,
  "metadata": {
    "colab": {
      "provenance": []
    },
    "kernelspec": {
      "name": "python3",
      "display_name": "Python 3"
    },
    "language_info": {
      "name": "python"
    }
  },
  "cells": [
    {
      "cell_type": "code",
      "source": [
        "import numpy as np\n",
        "from keras.layers import Dense,Conv2D,MaxPooling2D,Flatten\n",
        "from keras.models import Sequential\n",
        "from keras.datasets import mnist"
      ],
      "metadata": {
        "id": "1hNVmEa3PuHo"
      },
      "execution_count": 2,
      "outputs": []
    },
    {
      "cell_type": "code",
      "source": [
        "(train_img,train_label),(test_img,test_label) = mnist.load_data()"
      ],
      "metadata": {
        "colab": {
          "base_uri": "https://localhost:8080/"
        },
        "id": "JCFW4iYSP_uv",
        "outputId": "ffce4a46-d42a-4eb6-d5ac-099c8721c2e4"
      },
      "execution_count": 3,
      "outputs": [
        {
          "output_type": "stream",
          "name": "stdout",
          "text": [
            "Downloading data from https://storage.googleapis.com/tensorflow/tf-keras-datasets/mnist.npz\n",
            "11490434/11490434 [==============================] - 1s 0us/step\n"
          ]
        }
      ]
    },
    {
      "cell_type": "code",
      "source": [
        "train_img = train_img/255.0\n",
        "test_img = test_img/255.0"
      ],
      "metadata": {
        "id": "-iGH7xhCQeYD"
      },
      "execution_count": 4,
      "outputs": []
    },
    {
      "cell_type": "code",
      "source": [
        "train_img = train_img.reshape(train_img.shape[0],28,28)\n",
        "test_img = test_img.reshape(test_img.shape[0],28,28)"
      ],
      "metadata": {
        "id": "Vud-vfXMQuo5"
      },
      "execution_count": 5,
      "outputs": []
    },
    {
      "cell_type": "code",
      "source": [
        "from keras.utils.np_utils import to_categorical\n",
        "model = Sequential()\n",
        "\n",
        "model.add(Conv2D(filters=6,kernel_size=(5,5),padding=\"valid\",activation=\"relu\",input_shape=(28,28,1)))\n",
        "model.add(MaxPooling2D(pool_size=(2,2)))\n",
        "model.add(Conv2D(filters=16,kernel_size=(5,5),activation=\"relu\"))\n",
        "model.add(MaxPooling2D(pool_size=(2,2)))\n",
        "\n",
        "model.add(Flatten())\n",
        "\n",
        "model.add(Dense(120,activation=\"relu\"))\n",
        "\n",
        "model.add(Dense(10,activation=\"softmax\"))\n",
        "\n",
        "model.compile(metrics=[\"accuracy\"],optimizer=\"adam\",loss=\"categorical_crossentropy\")\n",
        "\n",
        "train_label = to_categorical(train_label)\n",
        "test_label = to_categorical(test_label)"
      ],
      "metadata": {
        "id": "l8xFC-06Q6Hz"
      },
      "execution_count": 6,
      "outputs": []
    },
    {
      "cell_type": "code",
      "source": [
        "history = model.fit(train_img,train_label,epochs=20,validation_data=(test_img,test_label))"
      ],
      "metadata": {
        "colab": {
          "base_uri": "https://localhost:8080/"
        },
        "id": "nYkMBLjeTIfV",
        "outputId": "3cf74fc1-1211-40ce-865c-28a37ce48b2b"
      },
      "execution_count": 7,
      "outputs": [
        {
          "output_type": "stream",
          "name": "stdout",
          "text": [
            "Epoch 1/20\n",
            "1875/1875 [==============================] - 65s 32ms/step - loss: 0.2021 - accuracy: 0.9396 - val_loss: 0.0639 - val_accuracy: 0.9785\n",
            "Epoch 2/20\n",
            "1875/1875 [==============================] - 38s 20ms/step - loss: 0.0645 - accuracy: 0.9800 - val_loss: 0.0548 - val_accuracy: 0.9818\n",
            "Epoch 3/20\n",
            "1875/1875 [==============================] - 38s 20ms/step - loss: 0.0442 - accuracy: 0.9857 - val_loss: 0.0453 - val_accuracy: 0.9851\n",
            "Epoch 4/20\n",
            "1875/1875 [==============================] - 39s 21ms/step - loss: 0.0365 - accuracy: 0.9887 - val_loss: 0.0394 - val_accuracy: 0.9881\n",
            "Epoch 5/20\n",
            "1875/1875 [==============================] - 39s 21ms/step - loss: 0.0282 - accuracy: 0.9907 - val_loss: 0.0341 - val_accuracy: 0.9888\n",
            "Epoch 6/20\n",
            "1875/1875 [==============================] - 39s 21ms/step - loss: 0.0225 - accuracy: 0.9927 - val_loss: 0.0304 - val_accuracy: 0.9910\n",
            "Epoch 7/20\n",
            "1875/1875 [==============================] - 38s 21ms/step - loss: 0.0190 - accuracy: 0.9940 - val_loss: 0.0324 - val_accuracy: 0.9895\n",
            "Epoch 8/20\n",
            "1875/1875 [==============================] - 39s 21ms/step - loss: 0.0164 - accuracy: 0.9947 - val_loss: 0.0305 - val_accuracy: 0.9920\n",
            "Epoch 9/20\n",
            "1875/1875 [==============================] - 37s 20ms/step - loss: 0.0145 - accuracy: 0.9953 - val_loss: 0.0379 - val_accuracy: 0.9898\n",
            "Epoch 10/20\n",
            "1875/1875 [==============================] - 39s 21ms/step - loss: 0.0122 - accuracy: 0.9958 - val_loss: 0.0395 - val_accuracy: 0.9890\n",
            "Epoch 11/20\n",
            "1875/1875 [==============================] - 39s 21ms/step - loss: 0.0106 - accuracy: 0.9962 - val_loss: 0.0371 - val_accuracy: 0.9903\n",
            "Epoch 12/20\n",
            "1875/1875 [==============================] - 38s 20ms/step - loss: 0.0096 - accuracy: 0.9966 - val_loss: 0.0333 - val_accuracy: 0.9913\n",
            "Epoch 13/20\n",
            "1875/1875 [==============================] - 39s 21ms/step - loss: 0.0087 - accuracy: 0.9972 - val_loss: 0.0426 - val_accuracy: 0.9892\n",
            "Epoch 14/20\n",
            "1875/1875 [==============================] - 41s 22ms/step - loss: 0.0089 - accuracy: 0.9969 - val_loss: 0.0410 - val_accuracy: 0.9890\n",
            "Epoch 15/20\n",
            "1875/1875 [==============================] - 38s 20ms/step - loss: 0.0069 - accuracy: 0.9977 - val_loss: 0.0371 - val_accuracy: 0.9908\n",
            "Epoch 16/20\n",
            "1875/1875 [==============================] - 37s 20ms/step - loss: 0.0064 - accuracy: 0.9979 - val_loss: 0.0530 - val_accuracy: 0.9882\n",
            "Epoch 17/20\n",
            "1875/1875 [==============================] - 36s 19ms/step - loss: 0.0066 - accuracy: 0.9979 - val_loss: 0.0488 - val_accuracy: 0.9903\n",
            "Epoch 18/20\n",
            "1875/1875 [==============================] - 37s 20ms/step - loss: 0.0058 - accuracy: 0.9981 - val_loss: 0.0539 - val_accuracy: 0.9889\n",
            "Epoch 19/20\n",
            "1875/1875 [==============================] - 39s 21ms/step - loss: 0.0064 - accuracy: 0.9980 - val_loss: 0.0531 - val_accuracy: 0.9893\n",
            "Epoch 20/20\n",
            "1875/1875 [==============================] - 38s 20ms/step - loss: 0.0050 - accuracy: 0.9983 - val_loss: 0.0531 - val_accuracy: 0.9899\n"
          ]
        }
      ]
    },
    {
      "cell_type": "code",
      "source": [
        "loss,accuracy = model.evaluate(test_img,test_label)"
      ],
      "metadata": {
        "colab": {
          "base_uri": "https://localhost:8080/"
        },
        "id": "JuSd8rpWXSIZ",
        "outputId": "756a6dc6-21c1-4d3a-c738-8cc0bee6258a"
      },
      "execution_count": 8,
      "outputs": [
        {
          "output_type": "stream",
          "name": "stdout",
          "text": [
            "313/313 [==============================] - 2s 7ms/step - loss: 0.0531 - accuracy: 0.9899\n"
          ]
        }
      ]
    },
    {
      "cell_type": "code",
      "source": [
        "import matplotlib.pyplot as plt"
      ],
      "metadata": {
        "id": "O5FTZkJpee9U"
      },
      "execution_count": 9,
      "outputs": []
    },
    {
      "cell_type": "code",
      "source": [
        "loss = history.history[\"loss\"]\n",
        "accuracy = history.history[\"accuracy\"]"
      ],
      "metadata": {
        "id": "n8zEx8OTe8ia"
      },
      "execution_count": 10,
      "outputs": []
    },
    {
      "cell_type": "code",
      "source": [
        "plt.plot(range(len(loss)),loss)\n",
        "plt.show()"
      ],
      "metadata": {
        "colab": {
          "base_uri": "https://localhost:8080/",
          "height": 265
        },
        "id": "LDQ4uULle-ub",
        "outputId": "4bb48473-8788-4e64-885c-252bfa2b2413"
      },
      "execution_count": 11,
      "outputs": [
        {
          "output_type": "display_data",
          "data": {
            "text/plain": [
              "<Figure size 432x288 with 1 Axes>"
            ],
            "image/png": "[encoded data removed]"
          },
          "metadata": {
            "needs_background": "light"
          }
        }
      ]
    },
    {
      "cell_type": "code",
      "source": [
        "plt.plot(range(len(accuracy)),accuracy)\n",
        "plt.show()"
      ],
      "metadata": {
        "colab": {
          "base_uri": "https://localhost:8080/",
          "height": 265
        },
        "id": "KlwKcT3qf9Yy",
        "outputId": "18228de1-1333-4872-ce37-efaf96e09ba3"
      },
      "execution_count": 12,
      "outputs": [
        {
          "output_type": "display_data",
          "data": {
            "text/plain": [
              "<Figure size 432x288 with 1 Axes>"
            ],
            "image/png": "[encoded data removed]"
          },
          "metadata": {
            "needs_background": "light"
          }
        }
      ]
    },
    {
      "cell_type": "code",
      "source": [],
      "metadata": {
        "id": "IIwRssS2511d"
      },
      "execution_count": null,
      "outputs": []
    }
  ]
}