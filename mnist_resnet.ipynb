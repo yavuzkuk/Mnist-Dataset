{
  "nbformat": 4,
  "nbformat_minor": 0,
  "metadata": {
    "colab": {
      "provenance": []
    },
    "kernelspec": {
      "name": "python3",
      "display_name": "Python 3"
    },
    "language_info": {
      "name": "python"
    }
  },
  "cells": [
    {
      "cell_type": "code",
      "execution_count": null,
      "metadata": {
        "id": "0-7PMrS_ywb9"
      },
      "outputs": [],
      "source": [
        "import numpy as np\n",
        "from keras.layers import Dense,Conv2D,MaxPooling2D,Dropout,Flatten\n",
        "from keras.datasets import mnist\n",
        "from keras.utils.np_utils import to_categorical\n",
        "from keras.engine.sequential import Sequential"
      ]
    },
    {
      "cell_type": "code",
      "source": [
        "(train_img,train_label),(test_img,test_label) = mnist.load_data()"
      ],
      "metadata": {
        "colab": {
          "base_uri": "https://localhost:8080/"
        },
        "id": "SWDK99ApzAnu",
        "outputId": "6ae5bc41-c9e4-466c-9901-99e98e0d9c10"
      },
      "execution_count": null,
      "outputs": [
        {
          "output_type": "stream",
          "name": "stdout",
          "text": [
            "Downloading data from https://storage.googleapis.com/tensorflow/tf-keras-datasets/mnist.npz\n",
            "11490434/11490434 [==============================] - 0s 0us/step\n"
          ]
        }
      ]
    },
    {
      "cell_type": "code",
      "source": [
        "train_img = train_img.astype(\"float\")/255.\n",
        "train_img = np.expand_dims(train_img,axis=-1)\n",
        "\n",
        "test_img = test_img.astype(\"float\")/255.\n",
        "test_img = np.expand_dims(test_img,axis=-1)"
      ],
      "metadata": {
        "id": "edSB8wxOzYtV"
      },
      "execution_count": null,
      "outputs": []
    },
    {
      "cell_type": "code",
      "source": [
        "train_label = to_categorical(train_label)\n",
        "test_label = to_categorical(test_label)"
      ],
      "metadata": {
        "id": "kR9yVrUH1gst"
      },
      "execution_count": null,
      "outputs": []
    },
    {
      "cell_type": "code",
      "source": [
        "model = Sequential()\n",
        "\n",
        "\n",
        "model.add(Conv2D(32, kernel_size=(3, 3), activation='relu', input_shape=(28, 28, 1)))\n",
        "model.add(Conv2D(32, kernel_size=(3, 3), activation='relu', padding='same'))\n",
        "model.add(MaxPooling2D(pool_size=(2, 2), strides=(2, 2)))\n",
        "\n",
        "model.add(Conv2D(64, kernel_size=(3, 3), activation='relu', padding='same'))\n",
        "model.add(Conv2D(64, kernel_size=(3, 3), activation='relu', padding='same'))\n",
        "model.add(MaxPooling2D(pool_size=(2, 2), strides=(2, 2)))\n",
        "\n",
        "model.add(Conv2D(128, kernel_size=(3, 3), activation='relu', padding='same'))\n",
        "model.add(Conv2D(128, kernel_size=(3, 3), activation='relu', padding='same'))\n",
        "model.add(Conv2D(128, kernel_size=(3, 3), activation='relu', padding='same'))\n",
        "model.add(MaxPooling2D(pool_size=(2, 2), strides=(2, 2)))\n",
        "\n",
        "model.add(Conv2D(256, kernel_size=(3, 3), activation='relu', padding='same'))\n",
        "model.add(Conv2D(256, kernel_size=(3, 3), activation='relu', padding='same'))\n",
        "model.add(Conv2D(256, kernel_size=(3, 3), activation='relu', padding='same'))\n",
        "model.add(MaxPooling2D(pool_size=(2, 2), strides=(2, 2)))\n",
        "\n",
        "model.add(Flatten())\n",
        "\n",
        "model.add(Dense(512, activation='relu'))\n",
        "model.add(Dropout(0.5))\n",
        "\n",
        "model.add(Dense(512, activation='relu'))\n",
        "model.add(Dropout(0.5))\n",
        "\n",
        "model.add(Dense(10, activation='softmax'))\n",
        "\n",
        "\n",
        "model.compile(loss=\"categorical_crossentropy\",metrics=[\"accuracy\"],optimizer=\"adam\")\n",
        "\n",
        "history = model.fit(train_img,train_label,epochs=10,validation_split=0.2,batch_size=128)"
      ],
      "metadata": {
        "colab": {
          "base_uri": "https://localhost:8080/"
        },
        "id": "eKxYshCI1psU",
        "outputId": "e64415e4-161c-4f37-fee3-a6e7cf4930ef"
      },
      "execution_count": null,
      "outputs": [
        {
          "output_type": "stream",
          "name": "stdout",
          "text": [
            "Epoch 1/10\n",
            "375/375 [==============================] - 555s 1s/step - loss: 0.5048 - accuracy: 0.8315 - val_loss: 0.0771 - val_accuracy: 0.9799\n",
            "Epoch 2/10\n",
            "375/375 [==============================] - 592s 2s/step - loss: 0.0805 - accuracy: 0.9797 - val_loss: 0.0591 - val_accuracy: 0.9865\n",
            "Epoch 3/10\n",
            "375/375 [==============================] - 509s 1s/step - loss: 0.0606 - accuracy: 0.9851 - val_loss: 0.0419 - val_accuracy: 0.9894\n",
            "Epoch 4/10\n",
            "375/375 [==============================] - 535s 1s/step - loss: 0.0464 - accuracy: 0.9892 - val_loss: 0.0411 - val_accuracy: 0.9896\n",
            "Epoch 5/10\n",
            "375/375 [==============================] - 518s 1s/step - loss: 0.0342 - accuracy: 0.9918 - val_loss: 0.0518 - val_accuracy: 0.9862\n",
            "Epoch 6/10\n",
            "375/375 [==============================] - 531s 1s/step - loss: 0.0419 - accuracy: 0.9903 - val_loss: 0.0430 - val_accuracy: 0.9897\n",
            "Epoch 7/10\n",
            "375/375 [==============================] - 517s 1s/step - loss: 0.0329 - accuracy: 0.9921 - val_loss: 0.0840 - val_accuracy: 0.9828\n",
            "Epoch 8/10\n",
            "375/375 [==============================] - 530s 1s/step - loss: 0.0325 - accuracy: 0.9921 - val_loss: 0.0501 - val_accuracy: 0.9886\n",
            "Epoch 9/10\n",
            "375/375 [==============================] - 521s 1s/step - loss: 0.0291 - accuracy: 0.9931 - val_loss: 0.0394 - val_accuracy: 0.9899\n",
            "Epoch 10/10\n",
            "375/375 [==============================] - 536s 1s/step - loss: 0.0310 - accuracy: 0.9929 - val_loss: 0.0470 - val_accuracy: 0.9904\n"
          ]
        }
      ]
    },
    {
      "cell_type": "code",
      "source": [
        "loss,accuracy = model.evaluate(test_img,test_label)"
      ],
      "metadata": {
        "colab": {
          "base_uri": "https://localhost:8080/"
        },
        "id": "i5UHYjoDzyWO",
        "outputId": "c3f00d27-1a03-4436-d73a-cea55f0f1c3a"
      },
      "execution_count": null,
      "outputs": [
        {
          "output_type": "stream",
          "name": "stdout",
          "text": [
            "313/313 [==============================] - 22s 69ms/step - loss: 0.0425 - accuracy: 0.9918\n"
          ]
        }
      ]
    },
    {
      "cell_type": "code",
      "source": [
        "loss = history.history[\"loss\"]\n",
        "accuracy = history.history[\"accuracy\"]"
      ],
      "metadata": {
        "id": "x0E40T8q2VVt"
      },
      "execution_count": null,
      "outputs": []
    },
    {
      "cell_type": "code",
      "source": [
        "import matplotlib.pyplot as plt\n",
        "\n",
        "plt.plot(range(len(loss)),loss)\n",
        "plt.show()\n",
        "\n",
        "plt.plot(range(len(accuracy)),accuracy)\n",
        "plt.show()"
      ],
      "metadata": {
        "colab": {
          "base_uri": "https://localhost:8080/",
          "height": 516
        },
        "id": "vu1RcsFLzr-2",
        "outputId": "4fd16000-9ecd-4fea-f9fd-4b16c2ac5206"
      },
      "execution_count": null,
      "outputs": [
        {
          "output_type": "display_data",
          "data": {
            "text/plain": [
              "<Figure size 432x288 with 1 Axes>"
            ],
            "image/png": "[encoded data removed]"
          },
          "metadata": {
            "needs_background": "light"
          }
        },
        {
          "output_type": "display_data",
          "data": {
            "text/plain": [
              "<Figure size 432x288 with 1 Axes>"
            ],
            "image/png": "[encoded data removed]"
          },
          "metadata": {
            "needs_background": "light"
          }
        }
      ]
    },
    {
      "cell_type": "code",
      "source": [],
      "metadata": {
        "id": "xZl4kUj309I_"
      },
      "execution_count": null,
      "outputs": []
    }
  ]
}